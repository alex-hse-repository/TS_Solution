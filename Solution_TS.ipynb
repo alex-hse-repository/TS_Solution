{
  "nbformat": 4,
  "nbformat_minor": 0,
  "metadata": {
    "kernelspec": {
      "display_name": "Python 3",
      "language": "python",
      "name": "python3"
    },
    "language_info": {
      "codemirror_mode": {
        "name": "ipython",
        "version": 3
      },
      "file_extension": ".py",
      "mimetype": "text/x-python",
      "name": "python",
      "nbconvert_exporter": "python",
      "pygments_lexer": "ipython3",
      "version": "3.7.6"
    },
    "colab": {
      "name": "Solution_TS.ipynb",
      "provenance": []
    },
    "widgets": {
      "application/vnd.jupyter.widget-state+json": {
        "6c44888e6c0c4d429344ae6eed4421ac": {
          "model_module": "@jupyter-widgets/controls",
          "model_name": "HBoxModel",
          "state": {
            "_view_name": "HBoxView",
            "_dom_classes": [],
            "_model_name": "HBoxModel",
            "_view_module": "@jupyter-widgets/controls",
            "_model_module_version": "1.5.0",
            "_view_count": null,
            "_view_module_version": "1.5.0",
            "box_style": "",
            "layout": "IPY_MODEL_8b325a4360c844f3afd3f6f7cd3ee199",
            "_model_module": "@jupyter-widgets/controls",
            "children": [
              "IPY_MODEL_a0f54e67adad40d28922884d682c614d",
              "IPY_MODEL_e4952fbfca0641a988ea4c71bd5f3971"
            ]
          }
        },
        "8b325a4360c844f3afd3f6f7cd3ee199": {
          "model_module": "@jupyter-widgets/base",
          "model_name": "LayoutModel",
          "state": {
            "_view_name": "LayoutView",
            "grid_template_rows": null,
            "right": null,
            "justify_content": null,
            "_view_module": "@jupyter-widgets/base",
            "overflow": null,
            "_model_module_version": "1.2.0",
            "_view_count": null,
            "flex_flow": null,
            "width": null,
            "min_width": null,
            "border": null,
            "align_items": null,
            "bottom": null,
            "_model_module": "@jupyter-widgets/base",
            "top": null,
            "grid_column": null,
            "overflow_y": null,
            "overflow_x": null,
            "grid_auto_flow": null,
            "grid_area": null,
            "grid_template_columns": null,
            "flex": null,
            "_model_name": "LayoutModel",
            "justify_items": null,
            "grid_row": null,
            "max_height": null,
            "align_content": null,
            "visibility": null,
            "align_self": null,
            "height": null,
            "min_height": null,
            "padding": null,
            "grid_auto_rows": null,
            "grid_gap": null,
            "max_width": null,
            "order": null,
            "_view_module_version": "1.2.0",
            "grid_template_areas": null,
            "object_position": null,
            "object_fit": null,
            "grid_auto_columns": null,
            "margin": null,
            "display": null,
            "left": null
          }
        },
        "a0f54e67adad40d28922884d682c614d": {
          "model_module": "@jupyter-widgets/controls",
          "model_name": "FloatProgressModel",
          "state": {
            "_view_name": "ProgressView",
            "style": "IPY_MODEL_4371f1807da84bb0ae0efbe224e7edf3",
            "_dom_classes": [],
            "description": "100%",
            "_model_name": "FloatProgressModel",
            "bar_style": "success",
            "max": 29860,
            "_view_module": "@jupyter-widgets/controls",
            "_model_module_version": "1.5.0",
            "value": 29860,
            "_view_count": null,
            "_view_module_version": "1.5.0",
            "orientation": "horizontal",
            "min": 0,
            "description_tooltip": null,
            "_model_module": "@jupyter-widgets/controls",
            "layout": "IPY_MODEL_576cad3d886148eb8b1a5d3587d89cec"
          }
        },
        "e4952fbfca0641a988ea4c71bd5f3971": {
          "model_module": "@jupyter-widgets/controls",
          "model_name": "HTMLModel",
          "state": {
            "_view_name": "HTMLView",
            "style": "IPY_MODEL_6c9adb950e6c4e15b83b071800b7d98a",
            "_dom_classes": [],
            "description": "",
            "_model_name": "HTMLModel",
            "placeholder": "​",
            "_view_module": "@jupyter-widgets/controls",
            "_model_module_version": "1.5.0",
            "value": " 29860/29860 [17:24&lt;00:00, 28.58it/s]",
            "_view_count": null,
            "_view_module_version": "1.5.0",
            "description_tooltip": null,
            "_model_module": "@jupyter-widgets/controls",
            "layout": "IPY_MODEL_bc6d8c76aee344e2959be3f17bb0616f"
          }
        },
        "4371f1807da84bb0ae0efbe224e7edf3": {
          "model_module": "@jupyter-widgets/controls",
          "model_name": "ProgressStyleModel",
          "state": {
            "_view_name": "StyleView",
            "_model_name": "ProgressStyleModel",
            "description_width": "initial",
            "_view_module": "@jupyter-widgets/base",
            "_model_module_version": "1.5.0",
            "_view_count": null,
            "_view_module_version": "1.2.0",
            "bar_color": null,
            "_model_module": "@jupyter-widgets/controls"
          }
        },
        "576cad3d886148eb8b1a5d3587d89cec": {
          "model_module": "@jupyter-widgets/base",
          "model_name": "LayoutModel",
          "state": {
            "_view_name": "LayoutView",
            "grid_template_rows": null,
            "right": null,
            "justify_content": null,
            "_view_module": "@jupyter-widgets/base",
            "overflow": null,
            "_model_module_version": "1.2.0",
            "_view_count": null,
            "flex_flow": null,
            "width": null,
            "min_width": null,
            "border": null,
            "align_items": null,
            "bottom": null,
            "_model_module": "@jupyter-widgets/base",
            "top": null,
            "grid_column": null,
            "overflow_y": null,
            "overflow_x": null,
            "grid_auto_flow": null,
            "grid_area": null,
            "grid_template_columns": null,
            "flex": null,
            "_model_name": "LayoutModel",
            "justify_items": null,
            "grid_row": null,
            "max_height": null,
            "align_content": null,
            "visibility": null,
            "align_self": null,
            "height": null,
            "min_height": null,
            "padding": null,
            "grid_auto_rows": null,
            "grid_gap": null,
            "max_width": null,
            "order": null,
            "_view_module_version": "1.2.0",
            "grid_template_areas": null,
            "object_position": null,
            "object_fit": null,
            "grid_auto_columns": null,
            "margin": null,
            "display": null,
            "left": null
          }
        },
        "6c9adb950e6c4e15b83b071800b7d98a": {
          "model_module": "@jupyter-widgets/controls",
          "model_name": "DescriptionStyleModel",
          "state": {
            "_view_name": "StyleView",
            "_model_name": "DescriptionStyleModel",
            "description_width": "",
            "_view_module": "@jupyter-widgets/base",
            "_model_module_version": "1.5.0",
            "_view_count": null,
            "_view_module_version": "1.2.0",
            "_model_module": "@jupyter-widgets/controls"
          }
        },
        "bc6d8c76aee344e2959be3f17bb0616f": {
          "model_module": "@jupyter-widgets/base",
          "model_name": "LayoutModel",
          "state": {
            "_view_name": "LayoutView",
            "grid_template_rows": null,
            "right": null,
            "justify_content": null,
            "_view_module": "@jupyter-widgets/base",
            "overflow": null,
            "_model_module_version": "1.2.0",
            "_view_count": null,
            "flex_flow": null,
            "width": null,
            "min_width": null,
            "border": null,
            "align_items": null,
            "bottom": null,
            "_model_module": "@jupyter-widgets/base",
            "top": null,
            "grid_column": null,
            "overflow_y": null,
            "overflow_x": null,
            "grid_auto_flow": null,
            "grid_area": null,
            "grid_template_columns": null,
            "flex": null,
            "_model_name": "LayoutModel",
            "justify_items": null,
            "grid_row": null,
            "max_height": null,
            "align_content": null,
            "visibility": null,
            "align_self": null,
            "height": null,
            "min_height": null,
            "padding": null,
            "grid_auto_rows": null,
            "grid_gap": null,
            "max_width": null,
            "order": null,
            "_view_module_version": "1.2.0",
            "grid_template_areas": null,
            "object_position": null,
            "object_fit": null,
            "grid_auto_columns": null,
            "margin": null,
            "display": null,
            "left": null
          }
        }
      }
    }
  },
  "cells": [
    {
      "cell_type": "markdown",
      "metadata": {
        "id": "fk39fkaoGy1a"
      },
      "source": [
        "## Библиотеки"
      ]
    },
    {
      "cell_type": "code",
      "metadata": {
        "id": "79esYkumGIWf"
      },
      "source": [
        "import json\n",
        "import gzip\n",
        "import pandas as pd\n",
        "import numpy as np\n",
        "import lightgbm as lgbm\n",
        "from tqdm.notebook import tqdm\n",
        "from sklearn.metrics import mean_absolute_error\n",
        "from sklearn.feature_extraction.text import CountVectorizer\n",
        "import matplotlib.pyplot as plt\n",
        "from sklearn.model_selection import GridSearchCV"
      ],
      "execution_count": 1,
      "outputs": []
    },
    {
      "cell_type": "code",
      "metadata": {
        "colab": {
          "base_uri": "https://localhost:8080/"
        },
        "id": "4IEisRUuGIWj",
        "outputId": "4f5315c0-ddb3-4410-c926-5f7a427c4d1a"
      },
      "source": [
        "tqdm.pandas()\n",
        "np.random.seed(42)"
      ],
      "execution_count": 2,
      "outputs": [
        {
          "output_type": "stream",
          "text": [
            "/usr/local/lib/python3.7/dist-packages/tqdm/std.py:658: FutureWarning: The Panel class is removed from pandas. Accessing it from the top-level namespace will also be removed in the next version\n",
            "  from pandas import Panel\n"
          ],
          "name": "stderr"
        }
      ]
    },
    {
      "cell_type": "markdown",
      "metadata": {
        "id": "k-9iV2OGGIWl"
      },
      "source": [
        "## Считывание и приведение данных"
      ]
    },
    {
      "cell_type": "code",
      "metadata": {
        "id": "5fYwceD8GIWo"
      },
      "source": [
        "with open('time_series_train.json', 'r') as f:\n",
        "    data = json.load(f)"
      ],
      "execution_count": 4,
      "outputs": []
    },
    {
      "cell_type": "markdown",
      "metadata": {
        "id": "S-UxKOk2GIWt"
      },
      "source": [
        "Метрика:\n",
        "$$MASE = \\frac{MAE}{Z}$$\n",
        "Где:\n",
        "\n",
        "\n",
        "$Z = 1+\\frac{1}{T-1}\\sum\\limits_{i=2}^{T}|y(i)-y(i-1)|,\\text{T - количесвто временных меток в train}$\n",
        "\n",
        "\n",
        "$MAE = \\frac{1}{m}\\sum\\limits_{i=T+1}^{T+m}|y(i)-a(i)|,\\text{m - количество временных меток в test(m=3)}$\n"
      ]
    },
    {
      "cell_type": "markdown",
      "metadata": {
        "id": "ig40_A_QIwPa"
      },
      "source": [
        "Вычислим веса для подсчёта метрики:"
      ]
    },
    {
      "cell_type": "code",
      "metadata": {
        "id": "QjUUI2M3GIWv"
      },
      "source": [
        "weights = []\n",
        "for elem in data:\n",
        "    weights.append(1 / (np.abs(np.diff([x[1] for x in elem])).mean() + 1))\n",
        "weights = np.array(weights)"
      ],
      "execution_count": 5,
      "outputs": []
    },
    {
      "cell_type": "markdown",
      "metadata": {
        "id": "DAtnbTHBGIWy"
      },
      "source": [
        "Заполним пропуски в данных:\n",
        "\n",
        "* пропущенные значения внутри ряда заполним -1\n",
        "* значения до начала ряда заполним -2"
      ]
    },
    {
      "cell_type": "code",
      "metadata": {
        "id": "uuSjZws3GIW1"
      },
      "source": [
        "all_time_labels = []\n",
        "for series in data:\n",
        "    time_labels = [item[0] for item in series]\n",
        "    all_time_labels.extend(time_labels)\n",
        "    \n",
        "data_values = np.full((len(data), max(all_time_labels) + 1), -1)\n",
        "for series_index, series in enumerate(data):\n",
        "    values_start = series[0][0]\n",
        "    for item in series:\n",
        "        data_values[series_index, item[0]] = item[1]\n",
        "    data_values[series_index, : values_start] = -2"
      ],
      "execution_count": 6,
      "outputs": []
    },
    {
      "cell_type": "code",
      "metadata": {
        "id": "PyuA5H6vGIW4"
      },
      "source": [
        "column_names = [i for i in range(data_values.shape[1])]\n",
        "raw_data = pd.DataFrame(data=data_values, columns=column_names)\n",
        "raw_data['weights'] = weights"
      ],
      "execution_count": 7,
      "outputs": []
    },
    {
      "cell_type": "markdown",
      "metadata": {
        "id": "YyACkzlVJVeJ"
      },
      "source": [
        "Посмотрим на получившийся датасет:\n"
      ]
    },
    {
      "cell_type": "code",
      "metadata": {
        "colab": {
          "base_uri": "https://localhost:8080/",
          "height": 255
        },
        "id": "IYx7VN2pJU6g",
        "outputId": "51bdca3d-19cb-4b4e-e790-b708baeb4a4d"
      },
      "source": [
        "raw_data.head(5)"
      ],
      "execution_count": 8,
      "outputs": [
        {
          "output_type": "execute_result",
          "data": {
            "text/html": [
              "<div>\n",
              "<style scoped>\n",
              "    .dataframe tbody tr th:only-of-type {\n",
              "        vertical-align: middle;\n",
              "    }\n",
              "\n",
              "    .dataframe tbody tr th {\n",
              "        vertical-align: top;\n",
              "    }\n",
              "\n",
              "    .dataframe thead th {\n",
              "        text-align: right;\n",
              "    }\n",
              "</style>\n",
              "<table border=\"1\" class=\"dataframe\">\n",
              "  <thead>\n",
              "    <tr style=\"text-align: right;\">\n",
              "      <th></th>\n",
              "      <th>0</th>\n",
              "      <th>1</th>\n",
              "      <th>2</th>\n",
              "      <th>3</th>\n",
              "      <th>4</th>\n",
              "      <th>5</th>\n",
              "      <th>6</th>\n",
              "      <th>7</th>\n",
              "      <th>8</th>\n",
              "      <th>9</th>\n",
              "      <th>10</th>\n",
              "      <th>11</th>\n",
              "      <th>12</th>\n",
              "      <th>13</th>\n",
              "      <th>14</th>\n",
              "      <th>15</th>\n",
              "      <th>16</th>\n",
              "      <th>17</th>\n",
              "      <th>18</th>\n",
              "      <th>19</th>\n",
              "      <th>20</th>\n",
              "      <th>21</th>\n",
              "      <th>22</th>\n",
              "      <th>23</th>\n",
              "      <th>24</th>\n",
              "      <th>25</th>\n",
              "      <th>26</th>\n",
              "      <th>27</th>\n",
              "      <th>28</th>\n",
              "      <th>29</th>\n",
              "      <th>30</th>\n",
              "      <th>31</th>\n",
              "      <th>32</th>\n",
              "      <th>33</th>\n",
              "      <th>34</th>\n",
              "      <th>35</th>\n",
              "      <th>36</th>\n",
              "      <th>37</th>\n",
              "      <th>38</th>\n",
              "      <th>39</th>\n",
              "      <th>...</th>\n",
              "      <th>61</th>\n",
              "      <th>62</th>\n",
              "      <th>63</th>\n",
              "      <th>64</th>\n",
              "      <th>65</th>\n",
              "      <th>66</th>\n",
              "      <th>67</th>\n",
              "      <th>68</th>\n",
              "      <th>69</th>\n",
              "      <th>70</th>\n",
              "      <th>71</th>\n",
              "      <th>72</th>\n",
              "      <th>73</th>\n",
              "      <th>74</th>\n",
              "      <th>75</th>\n",
              "      <th>76</th>\n",
              "      <th>77</th>\n",
              "      <th>78</th>\n",
              "      <th>79</th>\n",
              "      <th>80</th>\n",
              "      <th>81</th>\n",
              "      <th>82</th>\n",
              "      <th>83</th>\n",
              "      <th>84</th>\n",
              "      <th>85</th>\n",
              "      <th>86</th>\n",
              "      <th>87</th>\n",
              "      <th>88</th>\n",
              "      <th>89</th>\n",
              "      <th>90</th>\n",
              "      <th>91</th>\n",
              "      <th>92</th>\n",
              "      <th>93</th>\n",
              "      <th>94</th>\n",
              "      <th>95</th>\n",
              "      <th>96</th>\n",
              "      <th>97</th>\n",
              "      <th>98</th>\n",
              "      <th>99</th>\n",
              "      <th>weights</th>\n",
              "    </tr>\n",
              "  </thead>\n",
              "  <tbody>\n",
              "    <tr>\n",
              "      <th>0</th>\n",
              "      <td>-2</td>\n",
              "      <td>-2</td>\n",
              "      <td>-2</td>\n",
              "      <td>-2</td>\n",
              "      <td>-2</td>\n",
              "      <td>-2</td>\n",
              "      <td>-2</td>\n",
              "      <td>-2</td>\n",
              "      <td>-2</td>\n",
              "      <td>-2</td>\n",
              "      <td>-2</td>\n",
              "      <td>-2</td>\n",
              "      <td>-2</td>\n",
              "      <td>-2</td>\n",
              "      <td>-2</td>\n",
              "      <td>-2</td>\n",
              "      <td>-2</td>\n",
              "      <td>-2</td>\n",
              "      <td>-2</td>\n",
              "      <td>-2</td>\n",
              "      <td>-2</td>\n",
              "      <td>-2</td>\n",
              "      <td>-2</td>\n",
              "      <td>-2</td>\n",
              "      <td>-2</td>\n",
              "      <td>-2</td>\n",
              "      <td>-2</td>\n",
              "      <td>-2</td>\n",
              "      <td>-2</td>\n",
              "      <td>-2</td>\n",
              "      <td>-2</td>\n",
              "      <td>-2</td>\n",
              "      <td>-2</td>\n",
              "      <td>-2</td>\n",
              "      <td>-2</td>\n",
              "      <td>-2</td>\n",
              "      <td>-2</td>\n",
              "      <td>-2</td>\n",
              "      <td>-2</td>\n",
              "      <td>-2</td>\n",
              "      <td>...</td>\n",
              "      <td>-2</td>\n",
              "      <td>-2</td>\n",
              "      <td>-2</td>\n",
              "      <td>-2</td>\n",
              "      <td>-2</td>\n",
              "      <td>-2</td>\n",
              "      <td>-2</td>\n",
              "      <td>-2</td>\n",
              "      <td>-2</td>\n",
              "      <td>-2</td>\n",
              "      <td>-2</td>\n",
              "      <td>-2</td>\n",
              "      <td>-2</td>\n",
              "      <td>-2</td>\n",
              "      <td>-2</td>\n",
              "      <td>-2</td>\n",
              "      <td>-2</td>\n",
              "      <td>-2</td>\n",
              "      <td>-2</td>\n",
              "      <td>-2</td>\n",
              "      <td>-2</td>\n",
              "      <td>-2</td>\n",
              "      <td>-2</td>\n",
              "      <td>-2</td>\n",
              "      <td>-2</td>\n",
              "      <td>-2</td>\n",
              "      <td>-2</td>\n",
              "      <td>-2</td>\n",
              "      <td>-2</td>\n",
              "      <td>-2</td>\n",
              "      <td>-2</td>\n",
              "      <td>-2</td>\n",
              "      <td>-2</td>\n",
              "      <td>-2</td>\n",
              "      <td>-2</td>\n",
              "      <td>-2</td>\n",
              "      <td>-2</td>\n",
              "      <td>24850</td>\n",
              "      <td>95644</td>\n",
              "      <td>0.000014</td>\n",
              "    </tr>\n",
              "    <tr>\n",
              "      <th>1</th>\n",
              "      <td>-2</td>\n",
              "      <td>-2</td>\n",
              "      <td>-2</td>\n",
              "      <td>-2</td>\n",
              "      <td>-2</td>\n",
              "      <td>-2</td>\n",
              "      <td>-2</td>\n",
              "      <td>-2</td>\n",
              "      <td>-2</td>\n",
              "      <td>-2</td>\n",
              "      <td>-2</td>\n",
              "      <td>-2</td>\n",
              "      <td>-2</td>\n",
              "      <td>-2</td>\n",
              "      <td>-2</td>\n",
              "      <td>-2</td>\n",
              "      <td>-2</td>\n",
              "      <td>-2</td>\n",
              "      <td>-2</td>\n",
              "      <td>-2</td>\n",
              "      <td>-2</td>\n",
              "      <td>-2</td>\n",
              "      <td>-2</td>\n",
              "      <td>-2</td>\n",
              "      <td>-2</td>\n",
              "      <td>-2</td>\n",
              "      <td>-2</td>\n",
              "      <td>-2</td>\n",
              "      <td>-2</td>\n",
              "      <td>-2</td>\n",
              "      <td>-2</td>\n",
              "      <td>-2</td>\n",
              "      <td>-2</td>\n",
              "      <td>-2</td>\n",
              "      <td>-2</td>\n",
              "      <td>-2</td>\n",
              "      <td>-2</td>\n",
              "      <td>-2</td>\n",
              "      <td>-2</td>\n",
              "      <td>-2</td>\n",
              "      <td>...</td>\n",
              "      <td>4</td>\n",
              "      <td>1</td>\n",
              "      <td>-1</td>\n",
              "      <td>1</td>\n",
              "      <td>1</td>\n",
              "      <td>1</td>\n",
              "      <td>1</td>\n",
              "      <td>9</td>\n",
              "      <td>3</td>\n",
              "      <td>3</td>\n",
              "      <td>2</td>\n",
              "      <td>2</td>\n",
              "      <td>2</td>\n",
              "      <td>2</td>\n",
              "      <td>2</td>\n",
              "      <td>3</td>\n",
              "      <td>3</td>\n",
              "      <td>2</td>\n",
              "      <td>2</td>\n",
              "      <td>1</td>\n",
              "      <td>1</td>\n",
              "      <td>1</td>\n",
              "      <td>2</td>\n",
              "      <td>2</td>\n",
              "      <td>1</td>\n",
              "      <td>2</td>\n",
              "      <td>2</td>\n",
              "      <td>2</td>\n",
              "      <td>7</td>\n",
              "      <td>3</td>\n",
              "      <td>3</td>\n",
              "      <td>2</td>\n",
              "      <td>3</td>\n",
              "      <td>2</td>\n",
              "      <td>2</td>\n",
              "      <td>1</td>\n",
              "      <td>2</td>\n",
              "      <td>2</td>\n",
              "      <td>2</td>\n",
              "      <td>0.487179</td>\n",
              "    </tr>\n",
              "    <tr>\n",
              "      <th>2</th>\n",
              "      <td>-2</td>\n",
              "      <td>-2</td>\n",
              "      <td>-2</td>\n",
              "      <td>-2</td>\n",
              "      <td>-2</td>\n",
              "      <td>-2</td>\n",
              "      <td>-2</td>\n",
              "      <td>-2</td>\n",
              "      <td>-2</td>\n",
              "      <td>-2</td>\n",
              "      <td>-2</td>\n",
              "      <td>-2</td>\n",
              "      <td>-2</td>\n",
              "      <td>-2</td>\n",
              "      <td>-2</td>\n",
              "      <td>-2</td>\n",
              "      <td>-2</td>\n",
              "      <td>-2</td>\n",
              "      <td>-2</td>\n",
              "      <td>-2</td>\n",
              "      <td>-2</td>\n",
              "      <td>-2</td>\n",
              "      <td>-2</td>\n",
              "      <td>-2</td>\n",
              "      <td>-2</td>\n",
              "      <td>-2</td>\n",
              "      <td>-2</td>\n",
              "      <td>-2</td>\n",
              "      <td>-2</td>\n",
              "      <td>-2</td>\n",
              "      <td>-2</td>\n",
              "      <td>-2</td>\n",
              "      <td>-2</td>\n",
              "      <td>-2</td>\n",
              "      <td>-2</td>\n",
              "      <td>-2</td>\n",
              "      <td>-2</td>\n",
              "      <td>19</td>\n",
              "      <td>4</td>\n",
              "      <td>7</td>\n",
              "      <td>...</td>\n",
              "      <td>3</td>\n",
              "      <td>6</td>\n",
              "      <td>5</td>\n",
              "      <td>4</td>\n",
              "      <td>4</td>\n",
              "      <td>4</td>\n",
              "      <td>3</td>\n",
              "      <td>3</td>\n",
              "      <td>2</td>\n",
              "      <td>2</td>\n",
              "      <td>6</td>\n",
              "      <td>8</td>\n",
              "      <td>2</td>\n",
              "      <td>2</td>\n",
              "      <td>4</td>\n",
              "      <td>1</td>\n",
              "      <td>1</td>\n",
              "      <td>2</td>\n",
              "      <td>2</td>\n",
              "      <td>2</td>\n",
              "      <td>3</td>\n",
              "      <td>2</td>\n",
              "      <td>2</td>\n",
              "      <td>2</td>\n",
              "      <td>1</td>\n",
              "      <td>2</td>\n",
              "      <td>1</td>\n",
              "      <td>1</td>\n",
              "      <td>2</td>\n",
              "      <td>3</td>\n",
              "      <td>2</td>\n",
              "      <td>1</td>\n",
              "      <td>1</td>\n",
              "      <td>2</td>\n",
              "      <td>2</td>\n",
              "      <td>8</td>\n",
              "      <td>2</td>\n",
              "      <td>1</td>\n",
              "      <td>2</td>\n",
              "      <td>0.255144</td>\n",
              "    </tr>\n",
              "    <tr>\n",
              "      <th>3</th>\n",
              "      <td>-2</td>\n",
              "      <td>-2</td>\n",
              "      <td>-2</td>\n",
              "      <td>-2</td>\n",
              "      <td>-2</td>\n",
              "      <td>-2</td>\n",
              "      <td>-2</td>\n",
              "      <td>-2</td>\n",
              "      <td>-2</td>\n",
              "      <td>-2</td>\n",
              "      <td>-2</td>\n",
              "      <td>-2</td>\n",
              "      <td>-2</td>\n",
              "      <td>-2</td>\n",
              "      <td>-2</td>\n",
              "      <td>-2</td>\n",
              "      <td>-2</td>\n",
              "      <td>-2</td>\n",
              "      <td>-2</td>\n",
              "      <td>-2</td>\n",
              "      <td>-2</td>\n",
              "      <td>-2</td>\n",
              "      <td>-2</td>\n",
              "      <td>-2</td>\n",
              "      <td>-2</td>\n",
              "      <td>-2</td>\n",
              "      <td>-2</td>\n",
              "      <td>-2</td>\n",
              "      <td>-2</td>\n",
              "      <td>-2</td>\n",
              "      <td>-2</td>\n",
              "      <td>-2</td>\n",
              "      <td>-2</td>\n",
              "      <td>-2</td>\n",
              "      <td>-2</td>\n",
              "      <td>-2</td>\n",
              "      <td>-2</td>\n",
              "      <td>-2</td>\n",
              "      <td>-2</td>\n",
              "      <td>-2</td>\n",
              "      <td>...</td>\n",
              "      <td>3</td>\n",
              "      <td>3</td>\n",
              "      <td>6</td>\n",
              "      <td>2</td>\n",
              "      <td>2</td>\n",
              "      <td>2</td>\n",
              "      <td>2</td>\n",
              "      <td>2</td>\n",
              "      <td>3</td>\n",
              "      <td>1</td>\n",
              "      <td>2</td>\n",
              "      <td>1</td>\n",
              "      <td>1</td>\n",
              "      <td>1</td>\n",
              "      <td>1</td>\n",
              "      <td>1</td>\n",
              "      <td>1</td>\n",
              "      <td>2</td>\n",
              "      <td>1</td>\n",
              "      <td>1</td>\n",
              "      <td>-1</td>\n",
              "      <td>-1</td>\n",
              "      <td>1</td>\n",
              "      <td>1</td>\n",
              "      <td>1</td>\n",
              "      <td>1</td>\n",
              "      <td>1</td>\n",
              "      <td>2</td>\n",
              "      <td>1</td>\n",
              "      <td>1</td>\n",
              "      <td>1</td>\n",
              "      <td>2</td>\n",
              "      <td>1</td>\n",
              "      <td>1</td>\n",
              "      <td>1</td>\n",
              "      <td>1</td>\n",
              "      <td>1</td>\n",
              "      <td>1</td>\n",
              "      <td>1</td>\n",
              "      <td>0.649123</td>\n",
              "    </tr>\n",
              "    <tr>\n",
              "      <th>4</th>\n",
              "      <td>-2</td>\n",
              "      <td>-2</td>\n",
              "      <td>-2</td>\n",
              "      <td>-2</td>\n",
              "      <td>-2</td>\n",
              "      <td>-2</td>\n",
              "      <td>-2</td>\n",
              "      <td>-2</td>\n",
              "      <td>-2</td>\n",
              "      <td>-2</td>\n",
              "      <td>-2</td>\n",
              "      <td>-2</td>\n",
              "      <td>-2</td>\n",
              "      <td>-2</td>\n",
              "      <td>-2</td>\n",
              "      <td>-2</td>\n",
              "      <td>-2</td>\n",
              "      <td>-2</td>\n",
              "      <td>-2</td>\n",
              "      <td>-2</td>\n",
              "      <td>-2</td>\n",
              "      <td>-2</td>\n",
              "      <td>-2</td>\n",
              "      <td>-2</td>\n",
              "      <td>-2</td>\n",
              "      <td>-2</td>\n",
              "      <td>-2</td>\n",
              "      <td>-2</td>\n",
              "      <td>-2</td>\n",
              "      <td>-2</td>\n",
              "      <td>-2</td>\n",
              "      <td>-2</td>\n",
              "      <td>-2</td>\n",
              "      <td>-2</td>\n",
              "      <td>-2</td>\n",
              "      <td>-2</td>\n",
              "      <td>-2</td>\n",
              "      <td>-2</td>\n",
              "      <td>-2</td>\n",
              "      <td>-2</td>\n",
              "      <td>...</td>\n",
              "      <td>-2</td>\n",
              "      <td>-2</td>\n",
              "      <td>-2</td>\n",
              "      <td>-2</td>\n",
              "      <td>-2</td>\n",
              "      <td>-2</td>\n",
              "      <td>-2</td>\n",
              "      <td>-2</td>\n",
              "      <td>-2</td>\n",
              "      <td>-2</td>\n",
              "      <td>-2</td>\n",
              "      <td>-2</td>\n",
              "      <td>-2</td>\n",
              "      <td>-2</td>\n",
              "      <td>-2</td>\n",
              "      <td>-2</td>\n",
              "      <td>-2</td>\n",
              "      <td>-2</td>\n",
              "      <td>-2</td>\n",
              "      <td>-2</td>\n",
              "      <td>-2</td>\n",
              "      <td>-2</td>\n",
              "      <td>-2</td>\n",
              "      <td>0</td>\n",
              "      <td>474</td>\n",
              "      <td>23</td>\n",
              "      <td>22</td>\n",
              "      <td>18</td>\n",
              "      <td>19</td>\n",
              "      <td>22</td>\n",
              "      <td>18</td>\n",
              "      <td>17</td>\n",
              "      <td>12</td>\n",
              "      <td>15</td>\n",
              "      <td>17</td>\n",
              "      <td>18</td>\n",
              "      <td>12</td>\n",
              "      <td>12</td>\n",
              "      <td>13</td>\n",
              "      <td>0.015432</td>\n",
              "    </tr>\n",
              "  </tbody>\n",
              "</table>\n",
              "<p>5 rows × 101 columns</p>\n",
              "</div>"
            ],
            "text/plain": [
              "   0  1  2  3  4  5  6  7  8  ...  92  93  94  95  96  97     98     99   weights\n",
              "0 -2 -2 -2 -2 -2 -2 -2 -2 -2  ...  -2  -2  -2  -2  -2  -2  24850  95644  0.000014\n",
              "1 -2 -2 -2 -2 -2 -2 -2 -2 -2  ...   2   3   2   2   1   2      2      2  0.487179\n",
              "2 -2 -2 -2 -2 -2 -2 -2 -2 -2  ...   1   1   2   2   8   2      1      2  0.255144\n",
              "3 -2 -2 -2 -2 -2 -2 -2 -2 -2  ...   2   1   1   1   1   1      1      1  0.649123\n",
              "4 -2 -2 -2 -2 -2 -2 -2 -2 -2  ...  17  12  15  17  18  12     12     13  0.015432\n",
              "\n",
              "[5 rows x 101 columns]"
            ]
          },
          "metadata": {
            "tags": []
          },
          "execution_count": 8
        }
      ]
    },
    {
      "cell_type": "markdown",
      "metadata": {
        "id": "HHhUrL-8GIW-"
      },
      "source": [
        "Пополним выборку данными из прошлого следующим образом.\n",
        "\n",
        "Для каждого ряда будем случайно выбирать дату в прошлом, которую будем предсказывать. Причем для каждого ряда будем делать такой выбор несколько раз: тем больше, чем больше вес ряда.\n",
        "$$N(y) = k\\cdot len(y)\\cdot w(y)$$"
      ]
    },
    {
      "cell_type": "code",
      "metadata": {
        "id": "_AFpPeHlGIXA"
      },
      "source": [
        "def get_additional_data(row, k=2):\n",
        "    \"\"\"\n",
        "    Функция для семплирования прошлых данных из ряда.\n",
        "    \n",
        "    k - чем больше, тем больше рядов сэмплируем\n",
        "    \"\"\"\n",
        "    features = row[:100].to_numpy()\n",
        "    series_start = np.argmax(features > -1)\n",
        "    series_len = 100 - series_start\n",
        "    \n",
        "    if series_len < 4:\n",
        "        return None\n",
        "    \n",
        "    # количество сэмплов от ряда\n",
        "    select_number = max(1, int(k * series_len * row['weights']))\n",
        "    target_days = np.random.randint(low=series_start + 3, high=100, size=select_number)\n",
        "    additional_data = np.full((select_number, len(row)), -2.)\n",
        "    for index, day in enumerate(target_days):\n",
        "        slice_len = day - series_start\n",
        "        additional_data[index, (100 - slice_len):100] = row[series_start:day]\n",
        "        \n",
        "    # копируем вес ряда \n",
        "    additional_data[:, 100] = row[100]\n",
        "    return additional_data"
      ],
      "execution_count": 9,
      "outputs": []
    },
    {
      "cell_type": "code",
      "metadata": {
        "tags": [],
        "colab": {
          "base_uri": "https://localhost:8080/",
          "height": 67,
          "referenced_widgets": [
            "6c44888e6c0c4d429344ae6eed4421ac",
            "8b325a4360c844f3afd3f6f7cd3ee199",
            "a0f54e67adad40d28922884d682c614d",
            "e4952fbfca0641a988ea4c71bd5f3971",
            "4371f1807da84bb0ae0efbe224e7edf3",
            "576cad3d886148eb8b1a5d3587d89cec",
            "6c9adb950e6c4e15b83b071800b7d98a",
            "bc6d8c76aee344e2959be3f17bb0616f"
          ]
        },
        "id": "xYnGKqYoGIXC",
        "outputId": "463479a0-fcb2-4e4f-ff06-48d396f7f459"
      },
      "source": [
        "past_data = []\n",
        "for _, row in tqdm(raw_data.iterrows(), total=raw_data.shape[0]):\n",
        "    row_sclices = get_additional_data(row, k=4)\n",
        "    if row_sclices is None:\n",
        "        continue\n",
        "    past_data.append(row_sclices)\n",
        "past_data_np = np.vstack(past_data)\n",
        "past_data_df = pd.DataFrame(data=past_data_np, columns=raw_data.columns)"
      ],
      "execution_count": 10,
      "outputs": [
        {
          "output_type": "display_data",
          "data": {
            "application/vnd.jupyter.widget-view+json": {
              "model_id": "6c44888e6c0c4d429344ae6eed4421ac",
              "version_minor": 0,
              "version_major": 2
            },
            "text/plain": [
              "HBox(children=(FloatProgress(value=0.0, max=29860.0), HTML(value='')))"
            ]
          },
          "metadata": {
            "tags": []
          }
        },
        {
          "output_type": "stream",
          "text": [
            "\n"
          ],
          "name": "stdout"
        }
      ]
    },
    {
      "cell_type": "code",
      "metadata": {
        "id": "G_9cc0V4GIXH"
      },
      "source": [
        "data = pd.concat([raw_data, past_data_df])"
      ],
      "execution_count": 11,
      "outputs": []
    },
    {
      "cell_type": "markdown",
      "metadata": {
        "id": "5Yyo788_MA_5"
      },
      "source": [
        "Для каждой временной метки будем использовать отдельную модель(m=3)"
      ]
    },
    {
      "cell_type": "markdown",
      "metadata": {
        "id": "A1cqKWzqGIXI"
      },
      "source": [
        "Подберем для каждой из трех моделей, по скольки последним значениям будем делать предсказания"
      ]
    },
    {
      "cell_type": "code",
      "metadata": {
        "id": "vi7hHw85GIXJ"
      },
      "source": [
        "# Целевая функция по умолчанию -- rmse\n",
        "params = {\n",
        "    'boosting_type': 'gbdt',\n",
        "    'metric': {'mae', 'mae'},\n",
        "    'num_leaves': 31,\n",
        "    'learning_rate': 0.1,\n",
        "    'verbose': -1,\n",
        "}"
      ],
      "execution_count": 12,
      "outputs": []
    },
    {
      "cell_type": "markdown",
      "metadata": {
        "id": "ZBKMgvcDGIXM"
      },
      "source": [
        "Функция для формирования матриц предыдущих n_days наблюдений со сдвигом на shift дней и ответа:"
      ]
    },
    {
      "cell_type": "code",
      "metadata": {
        "id": "YgeZ4SzpGIXO"
      },
      "source": [
        "def get_past_days(data, target_day, val_day, n_days, shift):\n",
        "    \"\"\"\n",
        "    Функция для семплирования данных из ряда.\n",
        "    \n",
        "    data - временные ряды\n",
        "    target_day - день для предсказания(обучение) \n",
        "    val_day - день для прдесказания(валидация)\n",
        "    n_days - количество дней, используемых для предсказания\n",
        "    shift - лаг между последним значением и датой предсказания\n",
        "    \"\"\"\n",
        "    first_day = target_day - shift - n_days\n",
        "    last_day = target_day - 1 - shift\n",
        "    features = data.iloc[:, first_day:last_day]\n",
        "    \n",
        "    # для инференса\n",
        "    if target_day == 100:\n",
        "        return features\n",
        "    \n",
        "    target = data.iloc[:, target_day]\n",
        "    val = data.iloc[:, val_day]\n",
        "    val_first_day = val_day - shift - n_days\n",
        "    val_last_day = val_day - 1 - shift\n",
        "    val_features = data.iloc[:, val_first_day:val_last_day]\n",
        "    return features, target, val_features, val"
      ],
      "execution_count": 18,
      "outputs": []
    },
    {
      "cell_type": "markdown",
      "metadata": {
        "id": "9nJSmUAeGIXS"
      },
      "source": [
        "Функция для подбора оптимального количества наблюдений для предсказания:"
      ]
    },
    {
      "cell_type": "code",
      "metadata": {
        "id": "lO01JOXDGIXU"
      },
      "source": [
        "def tune_past_window(data, params, n_days_max=60):\n",
        "    day_scores = {\n",
        "        'day_1': {'days': [], 'metric': []},\n",
        "        'day_2': {'days': [], 'metric': []},\n",
        "        'day_3': {'days': [], 'metric': []}\n",
        "    }\n",
        "        \n",
        "    for shift in range(3):\n",
        "        for n_days in tqdm(range(1, n_days_max)):\n",
        "            X_train, y_train, X_val, y_val  = get_past_days(\n",
        "                data,\n",
        "                target_day=98,\n",
        "                val_day=99,\n",
        "                n_days=n_days,\n",
        "                shift=shift\n",
        "            )\n",
        "            # Учитываем веса объектов при обучении\n",
        "            lgbm_train = lgbm.Dataset(X_train, y_train, weight=data['weights'])\n",
        "            lgbm_eval = lgbm.Dataset(X_val, y_val)\n",
        "            lgbm_reg = lgbm.train(\n",
        "                params,\n",
        "                lgbm_train,\n",
        "                valid_sets=[lgbm_train, lgbm_eval],\n",
        "                early_stopping_rounds=5,\n",
        "                verbose_eval=False\n",
        "            )\n",
        "            score = lgbm_reg.best_score['valid_1']['l1']\n",
        "            day_scores[f'day_{shift + 1}']['days'].append(n_days)\n",
        "            day_scores[f'day_{shift + 1}']['metric'].append(score)\n",
        "\n",
        "    return day_scores"
      ],
      "execution_count": 19,
      "outputs": []
    },
    {
      "cell_type": "markdown",
      "metadata": {
        "id": "mPSMAve3O1eq"
      },
      "source": [
        "Метрика качества в зависимости от количества используемых дней в прошлом"
      ]
    },
    {
      "cell_type": "code",
      "metadata": {
        "colab": {
          "base_uri": "https://localhost:8080/",
          "height": 313
        },
        "id": "LH6QIyrIGIXX",
        "outputId": "0307de2e-e09f-41b0-f26c-b710294cd7d3"
      },
      "source": [
        "day_scores = tune_past_window(data, params, n_days_max=40)\n",
        "plt.plot(day_scores['day_1']['days'], day_scores['day_1']['metric'], label='day_1')\n",
        "plt.plot(day_scores['day_2']['days'], day_scores['day_2']['metric'], label='day_2')\n",
        "plt.plot(day_scores['day_3']['days'], day_scores['day_3']['metric'], label='day_3')\n",
        "plt.title('MAE')\n",
        "plt.xlabel('n_days')\n",
        "plt.legend()"
      ],
      "execution_count": 24,
      "outputs": [
        {
          "output_type": "execute_result",
          "data": {
            "text/plain": [
              "<matplotlib.legend.Legend at 0x7f7cb5268b90>"
            ]
          },
          "metadata": {
            "tags": []
          },
          "execution_count": 24
        },
        {
          "output_type": "display_data",
          "data": {
            "image/png": "[encoded data removed]",
            "text/plain": [
              "<Figure size 432x288 with 1 Axes>"
            ]
          },
          "metadata": {
            "tags": [],
            "needs_background": "light"
          }
        }
      ]
    },
    {
      "cell_type": "markdown",
      "metadata": {
        "id": "nfvFXas5PAfS"
      },
      "source": [
        "Оптимальные параметры для каждой модели"
      ]
    },
    {
      "cell_type": "code",
      "metadata": {
        "colab": {
          "base_uri": "https://localhost:8080/"
        },
        "id": "ldE8r5yIGIXZ",
        "outputId": "ef27c501-fc0c-41a3-e6e2-d1e5d7d7a245"
      },
      "source": [
        "days_1 = day_scores['day_1']['days'][np.argmin(day_scores['day_1']['metric'])]\n",
        "days_2 = day_scores['day_2']['days'][np.argmin(day_scores['day_2']['metric'])]\n",
        "days_3 = day_scores['day_3']['days'][np.argmin(day_scores['day_3']['metric'])]\n",
        "\n",
        "print(days_1, days_2, days_3)"
      ],
      "execution_count": 25,
      "outputs": [
        {
          "output_type": "stream",
          "text": [
            "7 12 10\n"
          ],
          "name": "stdout"
        }
      ]
    },
    {
      "cell_type": "markdown",
      "metadata": {
        "id": "UoBNVgN9GIXd"
      },
      "source": [
        "## Тюнинг параметров"
      ]
    },
    {
      "cell_type": "code",
      "metadata": {
        "id": "AFwAHlaaGIXe"
      },
      "source": [
        "model = lgbm.LGBMRegressor(\n",
        "    boosting_type=params['boosting_type'],\n",
        "    silent=True,\n",
        "    num_leaves=params['num_leaves'],\n",
        "    learning_rate=params['learning_rate'],\n",
        ")\n",
        "\n",
        "\n",
        "gridParams = {\n",
        "    'learning_rate': [0.05, 0.005],\n",
        "    'n_estimators': [20, 80, 100],\n",
        "    'num_leaves': [150, 200, 250],\n",
        "    'boosting_type' : ['gbdt'],\n",
        "    'objective' : ['regression'],\n",
        "    'random_state' : [501]\n",
        "}"
      ],
      "execution_count": 26,
      "outputs": []
    },
    {
      "cell_type": "code",
      "metadata": {
        "id": "6iA87jE6GIXg"
      },
      "source": [
        "grid = GridSearchCV(model, gridParams, scoring='neg_mean_absolute_error', verbose=1, cv=4, n_jobs=1)"
      ],
      "execution_count": 27,
      "outputs": []
    },
    {
      "cell_type": "markdown",
      "metadata": {
        "id": "osFHDhunGIXg"
      },
      "source": [
        "Подберем параметры обучения бустинга для модели, которая делает предсказание на один день. Эти же параметры будем использовать для остальных моделей"
      ]
    },
    {
      "cell_type": "code",
      "metadata": {
        "colab": {
          "base_uri": "https://localhost:8080/"
        },
        "id": "Mk6NBxyoGIXh",
        "outputId": "1e25eb04-6f76-44b6-cddf-ec2843039747"
      },
      "source": [
        "X_train_1, y_1, X_val_1, val_1 = get_past_days(\n",
        "    data,\n",
        "    target_day=98,\n",
        "    val_day=99,\n",
        "    n_days=days_1,\n",
        "    shift=0\n",
        ")\n",
        "grid.fit(X_train_1, y_1, sample_weight=data['weights'])\n",
        "print(grid.best_params_)\n",
        "print(grid.best_score_)"
      ],
      "execution_count": 28,
      "outputs": [
        {
          "output_type": "stream",
          "text": [
            "Fitting 4 folds for each of 18 candidates, totalling 72 fits\n"
          ],
          "name": "stdout"
        },
        {
          "output_type": "stream",
          "text": [
            "[Parallel(n_jobs=1)]: Using backend SequentialBackend with 1 concurrent workers.\n",
            "[Parallel(n_jobs=1)]: Done  72 out of  72 | elapsed: 10.8min finished\n"
          ],
          "name": "stderr"
        },
        {
          "output_type": "stream",
          "text": [
            "{'boosting_type': 'gbdt', 'learning_rate': 0.05, 'n_estimators': 80, 'num_leaves': 150, 'objective': 'regression', 'random_state': 501}\n",
            "-9.234794838092704\n"
          ],
          "name": "stdout"
        }
      ]
    },
    {
      "cell_type": "code",
      "metadata": {
        "colab": {
          "base_uri": "https://localhost:8080/"
        },
        "id": "TL8d64R0GIXj",
        "outputId": "ddd8c541-3296-4d92-c59c-6196b46e1240"
      },
      "source": [
        "params['num_leaves'] = grid.best_params_['num_leaves']\n",
        "params['learning_rate'] = grid.best_params_['learning_rate']\n",
        "params['n_estimators'] = grid.best_params_['n_estimators']\n",
        "print((params['num_leaves'], params['learning_rate'], params['n_estimators']))"
      ],
      "execution_count": 29,
      "outputs": [
        {
          "output_type": "stream",
          "text": [
            "(150, 0.05, 80)\n"
          ],
          "name": "stdout"
        }
      ]
    },
    {
      "cell_type": "markdown",
      "metadata": {
        "id": "6ov-rFqrGIXk"
      },
      "source": [
        "## Финальное обучение"
      ]
    },
    {
      "cell_type": "code",
      "metadata": {
        "colab": {
          "base_uri": "https://localhost:8080/"
        },
        "id": "XdW1F3EAGIXl",
        "outputId": "50b437d2-7d50-4553-bda6-2e6895b7162c"
      },
      "source": [
        "models = []\n",
        "for i, n_days in enumerate([days_1, days_2, days_3]):\n",
        "    X_train, y, _, _,  = get_past_days(data, target_day=99, val_day=99, n_days=n_days, shift=i)\n",
        "    lgbm_train = lgbm.Dataset(X_train, y, weight=data['weights'])\n",
        "    models.append(lgbm.train(params, lgbm_train, verbose_eval=False))"
      ],
      "execution_count": 30,
      "outputs": [
        {
          "output_type": "stream",
          "text": [
            "/usr/local/lib/python3.7/dist-packages/lightgbm/engine.py:118: UserWarning: Found `n_estimators` in params. Will use it instead of argument\n",
            "  warnings.warn(\"Found `{}` in params. Will use it instead of argument\".format(alias))\n",
            "/usr/local/lib/python3.7/dist-packages/lightgbm/engine.py:118: UserWarning: Found `n_estimators` in params. Will use it instead of argument\n",
            "  warnings.warn(\"Found `{}` in params. Will use it instead of argument\".format(alias))\n",
            "/usr/local/lib/python3.7/dist-packages/lightgbm/engine.py:118: UserWarning: Found `n_estimators` in params. Will use it instead of argument\n",
            "  warnings.warn(\"Found `{}` in params. Will use it instead of argument\".format(alias))\n"
          ],
          "name": "stderr"
        }
      ]
    },
    {
      "cell_type": "markdown",
      "metadata": {
        "id": "hYdKeHElGIXn"
      },
      "source": [
        "## Формирование ответа и оценка"
      ]
    },
    {
      "cell_type": "code",
      "metadata": {
        "id": "PoS6DnXaGIXn"
      },
      "source": [
        "X_1 = get_past_days(raw_data, target_day=100, val_day=100, n_days=days_1, shift=0)\n",
        "pred_1 = np.maximum(0, np.round(models[0].predict(X_1)))\n",
        "X_2 = get_past_days(raw_data, target_day=100, val_day=100, n_days=days_2, shift=0)\n",
        "pred_2 = np.maximum(0, np.round(models[1].predict(X_2)))\n",
        "X_3 = get_past_days(raw_data, target_day=100, val_day=100, n_days=days_3, shift=0)\n",
        "pred_3 = np.maximum(0, np.round(models[2].predict(X_3)))\n",
        "preds = np.column_stack((pred_1, pred_2, pred_3))"
      ],
      "execution_count": 31,
      "outputs": []
    },
    {
      "cell_type": "code",
      "metadata": {
        "id": "Qk3Ur-NYGIXt"
      },
      "source": [
        "answers, labels = [], []\n",
        "for series_index in range(preds.shape[0]):\n",
        "    for time_label in range(preds.shape[1]):\n",
        "        answers.append(preds[series_index, time_label])\n",
        "        labels.append(f'{series_index}_{time_label}')\n",
        "preds_df = pd.DataFrame({'Id': labels, 'Predicted': answers})\n",
        "preds_df['Predicted'] = preds_df['Predicted'].astype('int')\n",
        "preds_df.to_csv('submission.csv', index=False)"
      ],
      "execution_count": 33,
      "outputs": []
    },
    {
      "cell_type": "code",
      "metadata": {
        "id": "Qf9AWrrHcMjZ"
      },
      "source": [
        ""
      ],
      "execution_count": null,
      "outputs": []
    }
  ]
}